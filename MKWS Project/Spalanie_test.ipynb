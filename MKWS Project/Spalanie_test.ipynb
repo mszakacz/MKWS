{
 "cells": [
  {
   "cell_type": "code",
   "execution_count": 1,
   "metadata": {},
   "outputs": [],
   "source": [
    "import sys\n",
    "import os\n",
    "import math\n",
    "import cantera as ct\n",
    "import numpy\n",
    "import csv"
   ]
  },
  {
   "cell_type": "code",
   "execution_count": 2,
   "metadata": {},
   "outputs": [],
   "source": [
    "fuel2= ct.Solution('gri30.cti')  # Natural Gas: 94.22% CH4, 3.16% C2H6 and 2.62% N2"
   ]
  },
  {
   "cell_type": "code",
   "execution_count": 3,
   "metadata": {},
   "outputs": [],
   "source": [
    "egr=ct.Solution('gri30.cti')     # For Exhaust Gas Recirculation Oxidiser: 3% CO2, 17% O2, N2 79%, Ar 1%"
   ]
  },
  {
   "cell_type": "code",
   "execution_count": 4,
   "metadata": {},
   "outputs": [],
   "source": [
    "fuel2.TPX= 700.0, 10.3e5,'CH4:0.9422,C2H6:0.0316,N2:0.0262'  # Natural Gas Composition\n"
   ]
  },
  {
   "cell_type": "code",
   "execution_count": 5,
   "metadata": {},
   "outputs": [],
   "source": [
    "NG_inlet2= ct.Reservoir(fuel2)"
   ]
  },
  {
   "cell_type": "code",
   "execution_count": 6,
   "metadata": {},
   "outputs": [],
   "source": [
    "NG_mw2= fuel2.mean_molecular_weight"
   ]
  },
  {
   "cell_type": "code",
   "execution_count": 7,
   "metadata": {},
   "outputs": [],
   "source": [
    "# Creating Igniter Reservoir ; Stream of H radicals to ignite the mixture\n",
    "fuel2.TPX=1000.0,ct.one_atm,'H:1'\n",
    "igniter=ct.Reservoir(fuel2)"
   ]
  },
  {
   "cell_type": "code",
   "execution_count": 8,
   "metadata": {},
   "outputs": [],
   "source": [
    "egr.TPX= 700.0, 10.3e5,'CO2:0.03,O2:0.17,N2:0.79,AR:0.01'  # EGR oxidiser\n",
    "oxy_inlet2= ct.Reservoir(egr)\n",
    "#oxy_mw= egr.mean_molecular_weight"
   ]
  },
  {
   "cell_type": "code",
   "execution_count": 9,
   "metadata": {},
   "outputs": [],
   "source": [
    "#mixer: filled initially with nitrogen\n",
    "\n",
    "fuel2.TPX= 700.0,10.3e5,'N2:1'\n",
    "mixer2=ct.IdealGasReactor(fuel2, energy='on')\n",
    "mixer2.volume=10e-6   # Volume Computed as per experimental dimensions in m3\n"
   ]
  },
  {
   "cell_type": "code",
   "execution_count": 10,
   "metadata": {},
   "outputs": [],
   "source": [
    "combustor=ct.IdealGasReactor(fuel2,energy='on')\n",
    "combustor.volume=71.136e-6   # Experimental Dimensions in m3"
   ]
  },
  {
   "cell_type": "code",
   "execution_count": 11,
   "metadata": {},
   "outputs": [],
   "source": [
    "exhaust2=ct.Reservoir(fuel2)  # Exhaust Reservoir"
   ]
  },
  {
   "cell_type": "code",
   "execution_count": 12,
   "metadata": {},
   "outputs": [],
   "source": [
    "eq_ratio2=1  # Equivalence Ratio\n",
    "# mdot of oxidiser - 1.4 kg/s according to the experiment"
   ]
  },
  {
   "cell_type": "code",
   "execution_count": 13,
   "metadata": {},
   "outputs": [],
   "source": [
    "fuel_pipe2= ct.MassFlowController(NG_inlet2, mixer2, mdot=1.4*eq_ratio2)\n",
    "oxy_pipe2=ct.MassFlowController(oxy_inlet2,mixer2,mdot=1.4)\n"
   ]
  },
  {
   "cell_type": "code",
   "execution_count": 14,
   "metadata": {},
   "outputs": [],
   "source": [
    "# Igniter modeled as pulsed radicals of Hydrogen\n",
    "fwhm=0.2\n",
    "amp=0.1\n",
    "t0=1\n",
    "igniter_mdot= lambda t:amp*math.exp(-(t-t0)**2*4*math.log(2)/fwhm**2)\n",
    "ignite_pipe=ct.MassFlowController(igniter,combustor,mdot=igniter_mdot)\n"
   ]
  },
  {
   "cell_type": "code",
   "execution_count": 15,
   "metadata": {},
   "outputs": [],
   "source": [
    "# The premixed reactants have to enter the combustor\n",
    "\n",
    "mixer2combustor=ct.MassFlowController(mixer2,combustor)\n"
   ]
  },
  {
   "cell_type": "code",
   "execution_count": 16,
   "metadata": {},
   "outputs": [],
   "source": [
    "#exhaust valve\n",
    "\n",
    "v2=ct.Valve(combustor, exhaust2, K=100)\n"
   ]
  },
  {
   "cell_type": "code",
   "execution_count": 17,
   "metadata": {},
   "outputs": [],
   "source": [
    "#reactor Network\n",
    "\n",
    "sim=ct.ReactorNet([mixer2, combustor])\n"
   ]
  },
  {
   "cell_type": "code",
   "execution_count": 18,
   "metadata": {},
   "outputs": [
    {
     "name": "stdout",
     "output_type": "stream",
     "text": [
      "\n",
      "  gri30:\n",
      "\n",
      "       temperature             700  K\n",
      "          pressure        1.03e+06  Pa\n",
      "           density         4.95761  kg/m^3\n",
      "  mean mol. weight         28.0135  amu\n",
      "\n",
      "                          1 kg            1 kmol\n",
      "                       -----------      ------------\n",
      "          enthalpy      4.2636e+05        1.194e+07     J\n",
      "   internal energy       2.186e+05        6.124e+06     J\n",
      "           entropy          7050.3        1.975e+05     J/K\n",
      "    Gibbs function     -4.5089e+06       -1.263e+08     J\n",
      " heat capacity c_p          1095.3        3.068e+04     J/K\n",
      " heat capacity c_v          798.55        2.237e+04     J/K\n",
      "\n",
      "                           X                 Y          Chem. Pot. / RT\n",
      "                     -------------     ------------     ------------\n",
      "                N2              1                1         -21.7022\n",
      "     [  +52 minor]    4.23751e-26      1.52475e-27\n",
      "\n"
     ]
    }
   ],
   "source": [
    "#time stepping\n",
    "\n",
    "t_init2=0\n",
    "temp=numpy.zeros(100)\n",
    "comp=numpy.zeros(100)\n",
    "\n",
    "tfinal = 6.0\n",
    "tnow = 0.0\n",
    "Tprev = combustor.T\n",
    "tprev = tnow\n",
    "states = ct.SolutionArray(fuel2, extra=['t','tres'])\n",
    "\n",
    "for n in range(100):\n",
    "    tres2= combustor.mass/1.4\n",
    "    t_init2+=2*tres2\n",
    "    sim.advance(t_init2)\n",
    "\n",
    "\n",
    "print(combustor.thermo.report())"
   ]
  },
  {
   "cell_type": "code",
   "execution_count": null,
   "metadata": {},
   "outputs": [],
   "source": []
  }
 ],
 "metadata": {
  "kernelspec": {
   "display_name": "Python 3",
   "language": "python",
   "name": "python3"
  },
  "language_info": {
   "codemirror_mode": {
    "name": "ipython",
    "version": 3
   },
   "file_extension": ".py",
   "mimetype": "text/x-python",
   "name": "python",
   "nbconvert_exporter": "python",
   "pygments_lexer": "ipython3",
   "version": "3.6.4"
  }
 },
 "nbformat": 4,
 "nbformat_minor": 2
}
